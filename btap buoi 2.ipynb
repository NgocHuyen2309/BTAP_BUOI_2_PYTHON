{
 "cells": [
  {
   "metadata": {},
   "cell_type": "markdown",
   "source": "1. Write a Python program to calculate the length of a string.\n",
   "id": "802e000f4e446b16"
  },
  {
   "metadata": {
    "ExecuteTime": {
     "end_time": "2025-04-03T07:43:11.531844Z",
     "start_time": "2025-04-03T07:43:05.119430Z"
    }
   },
   "cell_type": "code",
   "source": [
    "s = input(\"Nhap chuoi: \")\n",
    "print(\"Chuoi la: \",s)\n",
    "print(\"Do dai chuoi: \",len(s))"
   ],
   "id": "88efb503f8399b8f",
   "outputs": [
    {
     "name": "stdout",
     "output_type": "stream",
     "text": [
      "Chuoi la:  Ngoc Huyen\n",
      "Do dai chuoi:  10\n"
     ]
    }
   ],
   "execution_count": 41
  },
  {
   "metadata": {},
   "cell_type": "markdown",
   "source": "2. Write a Python program to count the number of characters (character frequency) in a string.",
   "id": "ff29d1144c2d32c4"
  },
  {
   "metadata": {
    "ExecuteTime": {
     "end_time": "2025-04-03T07:43:43.503214Z",
     "start_time": "2025-04-03T07:43:36.623313Z"
    }
   },
   "cell_type": "code",
   "source": [
    "s = input(\"Nhap chuoi: \")\n",
    "print(\"Chuoi la: \",s)\n",
    "\n",
    "while s != \"\":\n",
    "    count = 0\n",
    "    left = \"\"\n",
    "    c = s[0].lower()\n",
    "    for i in s:\n",
    "        if c == i.lower():\n",
    "            count += 1\n",
    "        else:\n",
    "            left = left + i\n",
    "    s = left\n",
    "    print(c,\": \", count, \";\")\n",
    "\n"
   ],
   "id": "a9c9137912330f0b",
   "outputs": [
    {
     "name": "stdout",
     "output_type": "stream",
     "text": [
      "Chuoi la:  Ngoc Huyen\n",
      "n :  2 ;\n",
      "g :  1 ;\n",
      "o :  1 ;\n",
      "c :  1 ;\n",
      "  :  1 ;\n",
      "h :  1 ;\n",
      "u :  1 ;\n",
      "y :  1 ;\n",
      "e :  1 ;\n"
     ]
    }
   ],
   "execution_count": 42
  },
  {
   "metadata": {},
   "cell_type": "markdown",
   "source": "3. Write a Python program to get a string made of the first 2 and last 2 characters of a given string. If the string length is less than 2, return the empty string instead.",
   "id": "bc832a9e1290c0e9"
  },
  {
   "metadata": {
    "ExecuteTime": {
     "end_time": "2025-04-03T07:44:28.919150Z",
     "start_time": "2025-04-03T07:44:22.126608Z"
    }
   },
   "cell_type": "code",
   "source": [
    "s = input(\"Nhap chuoi: \")\n",
    "print(\"Chuoi la: \",s)\n",
    "\n",
    "newstr = \"\"\n",
    "if len(s) > 2:\n",
    "    newstr = s[0:2] + s[-2:]\n",
    "    print(\"Chuoi moi: \",newstr)\n",
    "else:\n",
    "    print(\"Empty string\")"
   ],
   "id": "e2642be229a16cd3",
   "outputs": [
    {
     "name": "stdout",
     "output_type": "stream",
     "text": [
      "Chuoi la:  Huyen\n",
      "Chuoi moi:  Huen\n"
     ]
    }
   ],
   "execution_count": 43
  },
  {
   "metadata": {},
   "cell_type": "markdown",
   "source": "4. Write a Python program to get a string from a given string where all occurrences of its first char have been changed to '$', except the first char itself.",
   "id": "10679d2d8613436b"
  },
  {
   "metadata": {
    "ExecuteTime": {
     "end_time": "2025-04-03T07:46:55.666689Z",
     "start_time": "2025-04-03T07:46:47.851531Z"
    }
   },
   "cell_type": "code",
   "source": [
    "s = input(\"Nhap chuoi: \")\n",
    "print(\"Chuoi la: \",s)\n",
    "\n",
    "c = s[0]\n",
    "newstr = c\n",
    "for i in s[1:]:\n",
    "    if i == c:\n",
    "        newstr += \"$\"\n",
    "    else:\n",
    "        newstr += i\n",
    "s = newstr\n",
    "print(\"Chuoi moi la: \",s)"
   ],
   "id": "e09c56c8222abe82",
   "outputs": [
    {
     "name": "stdout",
     "output_type": "stream",
     "text": [
      "Chuoi la:  hahahahahha\n",
      "Chuoi moi la:  ha$a$a$a$$a\n"
     ]
    }
   ],
   "execution_count": 44
  },
  {
   "metadata": {},
   "cell_type": "markdown",
   "source": "5. Write a Python program to get a single string from two given strings, separated by a space and swap the first two characters of each string",
   "id": "7bacf4d9fc44c91"
  },
  {
   "metadata": {
    "ExecuteTime": {
     "end_time": "2025-04-03T07:47:13.643109Z",
     "start_time": "2025-04-03T07:47:06.117101Z"
    }
   },
   "cell_type": "code",
   "source": [
    "s1 = input(\"Nhap chuoi dau: \")\n",
    "print(\"Chuoi dau la: \",s1)\n",
    "\n",
    "s2 = input(\"Nhap chuoi thu hai: \")\n",
    "print(\"Chuoi thu hai la: \",s2)\n",
    "newstr = \"\"\n",
    "if len(s) >= 2:\n",
    "    newstr = s2[0:2] + \" \" + s1[0:2]\n",
    "    print(\"Chuoi moi: \",newstr)\n",
    "else:\n",
    "    print(\"Empty string\")"
   ],
   "id": "6f08729dce476f13",
   "outputs": [
    {
     "name": "stdout",
     "output_type": "stream",
     "text": [
      "Chuoi dau la:  Huyen\n",
      "Chuoi thu hai la:  Beo\n",
      "Chuoi moi:  Be Hu\n"
     ]
    }
   ],
   "execution_count": 45
  },
  {
   "metadata": {},
   "cell_type": "markdown",
   "source": "6. Write a Python program to add 'ing' at the end of a given string (length should be at least 3). If the given string already ends with 'ing', add 'ly' instead. If the string length of the given string is less than 3, leave it unchanged.",
   "id": "41b2b8bea3d05234"
  },
  {
   "metadata": {
    "ExecuteTime": {
     "end_time": "2025-04-03T07:56:08.848106Z",
     "start_time": "2025-04-03T07:55:05.790494Z"
    }
   },
   "cell_type": "code",
   "source": [
    "s = input(\"Nhap chuoi: \")\n",
    "print(\"Chuoi la: \",s)\n",
    "\n",
    "newstr = \"\"\n",
    "if len(s) >= 3:\n",
    "    if s[-3:] == \"ing\":\n",
    "        newstr = s + \"ly\"\n",
    "        print(\"Chuoi moi: \",newstr)\n",
    "    else:\n",
    "        newstr = s + \"ing\"\n",
    "        print(\"Chuoi moi: \",newstr)\n",
    "else:\n",
    "    print(\"Chuoi moi van la: \",s)\n"
   ],
   "id": "dadf363eb62f6f38",
   "outputs": [
    {
     "name": "stdout",
     "output_type": "stream",
     "text": [
      "Chuoi la:  kill\n",
      "Chuoi moi:  killing\n"
     ]
    }
   ],
   "execution_count": 52
  },
  {
   "metadata": {},
   "cell_type": "markdown",
   "source": "7. Write a Python program to find the first appearance of the substrings 'not' and 'poor' in a given string. If 'not' follows 'poor', replace the whole 'not'...'poor' substring with 'good'. Return the resulting string.",
   "id": "1f1df943dbb780d2"
  },
  {
   "metadata": {
    "ExecuteTime": {
     "end_time": "2025-04-03T08:28:38.540554Z",
     "start_time": "2025-04-03T08:28:28.025877Z"
    }
   },
   "cell_type": "code",
   "source": [
    "s = input(\"Nhap chuoi: \")\n",
    "print(\"Chuoi la: \",s)\n",
    "\n",
    "newstr = \"\"\n",
    "x = s.find(\"not\")\n",
    "y = s.find(\"poor\")\n",
    "\n",
    "if x != -1 and y != -1 and x < y:\n",
    "    newstr = s[:x] + \"good\" + s[y+4:]\n",
    "    print(\"Chuoi moi: \",newstr)\n",
    "else:\n",
    "    print(\"Chuoi moi van la: \",s)"
   ],
   "id": "3912dd1bc2ddc5e2",
   "outputs": [
    {
     "name": "stdout",
     "output_type": "stream",
     "text": [
      "Chuoi la:  The film is not that poor\n",
      "Chuoi moi:  The film is good\n"
     ]
    }
   ],
   "execution_count": 67
  },
  {
   "metadata": {},
   "cell_type": "markdown",
   "source": "8. Write a Python function that takes a list of words and return the longest word and the length of the longest one.",
   "id": "73c6b4ac3899f82d"
  },
  {
   "metadata": {
    "ExecuteTime": {
     "end_time": "2025-04-04T08:02:39.249997Z",
     "start_time": "2025-04-04T08:02:24.876010Z"
    }
   },
   "cell_type": "code",
   "source": [
    "def find_longest_word(n):\n",
    "    danhsach = []\n",
    "    tuDaiNhat = \"\"\n",
    "    for i in range(n):\n",
    "        danhsach.append(input(\"Nhap du lieu: \"))\n",
    "    print(\"Danh sach da nhap:\", danhsach)\n",
    "    for i in danhsach:\n",
    "        if tuDaiNhat < i:\n",
    "            tuDaiNhat = i\n",
    "    return tuDaiNhat\n",
    "\n",
    "n = int(input(\"Nhap so luong du lieu: \"))\n",
    "\n",
    "tuDaiNhat = find_longest_word(n)\n",
    "print(\"Tu dai nhat:\", tuDaiNhat)\n",
    "print(\"Do dai tu dai nhat: \", len(tuDaiNhat))\n",
    "\n",
    "\n"
   ],
   "id": "19e55748fe7c2648",
   "outputs": [
    {
     "name": "stdout",
     "output_type": "stream",
     "text": [
      "Danh sach da nhap: ['h', 'hh', 'hhh', 'hhhh']\n",
      "Tu dai nhat: hhhh\n",
      "Do dai tu dai nhat:  4\n"
     ]
    }
   ],
   "execution_count": 32
  },
  {
   "metadata": {},
   "cell_type": "markdown",
   "source": "9. Write a Python program to remove the nth index character from a nonempty string.",
   "id": "3591520ed9a5a7fb"
  },
  {
   "metadata": {
    "ExecuteTime": {
     "end_time": "2025-04-03T09:18:57.268236Z",
     "start_time": "2025-04-03T09:18:49.029647Z"
    }
   },
   "cell_type": "code",
   "source": [
    "s = input(\"Nhap chuoi: \")\n",
    "print(\"Chuoi la: \",s)\n",
    "\n",
    "n = int(input(\"Nhap vi tri ki tu muon bo: \"))\n",
    "if len(s) != 0 & (0<= n <= len(s)):\n",
    "    s = s[:n] + s[n+1:]\n",
    "    print(\"Chuoi moi: \",s)\n",
    "\n"
   ],
   "id": "cd94d64c983b2532",
   "outputs": [
    {
     "name": "stdout",
     "output_type": "stream",
     "text": [
      "Chuoi la:  hehehe\n",
      "Chuoi moi:  ehehe\n"
     ]
    }
   ],
   "execution_count": 72
  },
  {
   "metadata": {},
   "cell_type": "markdown",
   "source": "10. Write a Python program to change a given string to a newly string where the first and last chars have been exchanged.",
   "id": "e58745bc9e40ebf3"
  },
  {
   "metadata": {
    "ExecuteTime": {
     "end_time": "2025-04-03T09:23:25.724274Z",
     "start_time": "2025-04-03T09:23:19.760676Z"
    }
   },
   "cell_type": "code",
   "source": [
    "s = input(\"Nhap chuoi: \")\n",
    "print(\"Chuoi la: \",s)\n",
    "\n",
    "if len(s) >= 2:\n",
    "    s = s[-1:]+ s[1:-1] + s[:1]\n",
    "    print(\"Chuoi moi: \",s)"
   ],
   "id": "4ce7babc4be8e91c",
   "outputs": [
    {
     "name": "stdout",
     "output_type": "stream",
     "text": [
      "Chuoi la:  minhtri\n",
      "Chuoi moi:  iinhtrm\n"
     ]
    }
   ],
   "execution_count": 74
  },
  {
   "metadata": {},
   "cell_type": "markdown",
   "source": "11. Write a Python program to remove characters that have odd index values in a given string.",
   "id": "46c280c1afa3cc4b"
  },
  {
   "metadata": {
    "ExecuteTime": {
     "end_time": "2025-04-03T09:26:44.831428Z",
     "start_time": "2025-04-03T09:26:37.053620Z"
    }
   },
   "cell_type": "code",
   "source": [
    "s = input(\"Nhap chuoi: \")\n",
    "print(\"Chuoi la: \",s)\n",
    "\n",
    "if len(s) != 0:\n",
    "    s = s[::2]\n",
    "    print(\"Chuoi moi: \",s)"
   ],
   "id": "8f9c32da5bb1a923",
   "outputs": [
    {
     "name": "stdout",
     "output_type": "stream",
     "text": [
      "Chuoi la:  ngochuyen\n",
      "Chuoi moi:  nohyn\n"
     ]
    }
   ],
   "execution_count": 76
  },
  {
   "metadata": {},
   "cell_type": "markdown",
   "source": "12. Write a Python program to count the occurrences of each word in a given sentence.",
   "id": "bf89b9375264ff8d"
  },
  {
   "metadata": {
    "ExecuteTime": {
     "end_time": "2025-04-04T06:52:38.128837Z",
     "start_time": "2025-04-04T06:52:35.187618Z"
    }
   },
   "cell_type": "code",
   "source": [
    "import re\n",
    "s = input(\"Nhap chuoi cau: \")\n",
    "print(\"Chuoi la: \",s)\n",
    "\n",
    "s = re.sub(r'[^\\w\\s]', '', s).lower()\n",
    "\n",
    "danhSachTu = s.split(\" \")\n",
    "print(\"Cac tu trong chuoi: \",danhSachTu)\n",
    "\n",
    "tanSuatTu = {}\n",
    "\n",
    "for tu in danhSachTu:\n",
    "    tu = tu.lower()\n",
    "    if tu in tanSuatTu:\n",
    "        tanSuatTu[tu] += 1\n",
    "    else:\n",
    "        tanSuatTu[tu] = 1\n",
    "\n",
    "# In kết quả\n",
    "for tu, soLan in tanSuatTu.items():\n",
    "    print(f\"{tu}: {soLan}\")\n",
    "\n"
   ],
   "id": "bf583bf990875896",
   "outputs": [
    {
     "name": "stdout",
     "output_type": "stream",
     "text": [
      "Chuoi la:  tui ten la huyen. Tui 18 tuoi. Huyen thich hoa. Tuoi cua huyen lon hon bin\n",
      "Cac tu trong chuoi:  ['tui', 'ten', 'la', 'huyen', 'tui', '18', 'tuoi', 'huyen', 'thich', 'hoa', 'tuoi', 'cua', 'huyen', 'lon', 'hon', 'bin']\n",
      "tui: 2\n",
      "ten: 1\n",
      "la: 1\n",
      "huyen: 3\n",
      "18: 1\n",
      "tuoi: 2\n",
      "thich: 1\n",
      "hoa: 1\n",
      "cua: 1\n",
      "lon: 1\n",
      "hon: 1\n",
      "bin: 1\n"
     ]
    }
   ],
   "execution_count": 4
  },
  {
   "metadata": {},
   "cell_type": "markdown",
   "source": "13. Write a Python script that takes input from the user and displays that input back in upper and lower cases.",
   "id": "d8dddc7332d615e9"
  },
  {
   "metadata": {
    "ExecuteTime": {
     "end_time": "2025-04-04T06:55:01.738360Z",
     "start_time": "2025-04-04T06:54:39.625666Z"
    }
   },
   "cell_type": "code",
   "source": [
    "s = input(\"Nhap chuoi: \")\n",
    "print(\"Chuoi la: \",s)\n",
    "\n",
    "print(\"Chuoi khi duoc viet in hoa: \", s.upper())\n",
    "print(\"Chuoi khi duoc viet thuong: \", s.lower())"
   ],
   "id": "3e4cd0a597001100",
   "outputs": [
    {
     "name": "stdout",
     "output_type": "stream",
     "text": [
      "Chuoi la:  tui ten la Huyen. Tui hoc o UEH.\n",
      "Chuoi khi duoc viet in hoa:  TUI TEN LA HUYEN. TUI HOC O UEH.\n",
      "Chuoi khi duoc viet thuong:  tui ten la huyen. tui hoc o ueh.\n"
     ]
    }
   ],
   "execution_count": 5
  },
  {
   "metadata": {},
   "cell_type": "markdown",
   "source": [
    "14. Write a Python program that accepts a comma-separated sequence of words as input and\n",
    "prints the distinct words in sorted form (alphanumerically)."
   ],
   "id": "7e51b8931d58403f"
  },
  {
   "metadata": {
    "ExecuteTime": {
     "end_time": "2025-04-04T07:16:34.082158Z",
     "start_time": "2025-04-04T07:16:22.099788Z"
    }
   },
   "cell_type": "code",
   "source": [
    "s = input(\"Nhap chuoi tu (cach nhau bang dau phay: \")\n",
    "print(\"Chuoi la: \",s)\n",
    "\n",
    "danhSachTu = [tu.strip() for tu in s.split(\",\")]\n",
    "tuKoTrung = list(set(danhSachTu))\n",
    "\n",
    "n = len(tuKoTrung)\n",
    "for i in range(n - 1):\n",
    "    for j in range(n - i - 1):\n",
    "        if tuKoTrung[j] > tuKoTrung[j + 1]:\n",
    "            tuKoTrung[j], tuKoTrung[j + 1] = tuKoTrung[j + 1], tuKoTrung[j]\n",
    "\n",
    "print(\",\".join(tuKoTrung))"
   ],
   "id": "7ed540994da52501",
   "outputs": [
    {
     "name": "stdout",
     "output_type": "stream",
     "text": [
      "Chuoi la:  chuoi, cam, nho, xoai, oi\n",
      "cam,chuoi,nho,oi,xoai\n"
     ]
    }
   ],
   "execution_count": 9
  },
  {
   "metadata": {},
   "cell_type": "markdown",
   "source": "15. Write a Python function to create an HTML string with tags around the word(s).",
   "id": "cdc3eadda4f11668"
  },
  {
   "metadata": {
    "ExecuteTime": {
     "end_time": "2025-04-04T07:54:21.159118Z",
     "start_time": "2025-04-04T07:54:12.007507Z"
    }
   },
   "cell_type": "code",
   "source": [
    "def add_html_tag(tag, tu):\n",
    "    return f\"<{tag}>{tu}</{tag}>\"\n",
    "\n",
    "tag = input(\"Nhap tag: \")\n",
    "tu = input(\"Nhap tu: \")\n",
    "\n",
    "html_string = add_html_tag(tag, tu)\n",
    "\n",
    "print(html_string)"
   ],
   "id": "72a9f8f5d1fee8a2",
   "outputs": [
    {
     "name": "stdout",
     "output_type": "stream",
     "text": [
      "<i>Python</i>\n"
     ]
    }
   ],
   "execution_count": 26
  },
  {
   "metadata": {},
   "cell_type": "markdown",
   "source": "16. Write a Python function to insert a string in the middle of a string.",
   "id": "869049d2bf1a0d68"
  },
  {
   "metadata": {
    "ExecuteTime": {
     "end_time": "2025-04-04T07:55:55.119133Z",
     "start_time": "2025-04-04T07:55:49.624133Z"
    }
   },
   "cell_type": "code",
   "source": [
    "def insert_string_middle(mainstr, insertstr):\n",
    "    mid = len(mainstr) // 2\n",
    "    return mainstr[:mid] + insertstr + mainstr[mid:]\n",
    "mainstr = \"[[]]\"\n",
    "insertstr = input(\"Nhap chuoi: \")\n",
    "\n",
    "newstr = insert_string_middle(mainstr, insertstr)\n",
    "print(\"Chuoi moi la: \",newstr)"
   ],
   "id": "1172477d1cf473d3",
   "outputs": [
    {
     "name": "stdout",
     "output_type": "stream",
     "text": [
      "Chuoi moi la:  [[Python]]\n"
     ]
    }
   ],
   "execution_count": 27
  },
  {
   "metadata": {},
   "cell_type": "markdown",
   "source": [
    "17. Write a Python function to get a string made of 4 copies of the last two characters of a\n",
    "specified string (length must be at least 2)."
   ],
   "id": "e097e4d00eab0f67"
  },
  {
   "metadata": {
    "ExecuteTime": {
     "end_time": "2025-04-04T07:58:23.207988Z",
     "start_time": "2025-04-04T07:58:19.934534Z"
    }
   },
   "cell_type": "code",
   "source": [
    "def repeat_last_two_chars(s):\n",
    "    if len(s) >= 2:\n",
    "        return s[-2:] * 4\n",
    "    else:\n",
    "        return \"Empty new string\"\n",
    "\n",
    "s = input(\"Nhap chuoi: \")\n",
    "print(\"Chuoi la: \",s)\n",
    "\n",
    "newstr = repeat_last_two_chars(s)\n",
    "print(\"Chuoi moi: \", newstr)"
   ],
   "id": "a42a406f4b0b02bf",
   "outputs": [
    {
     "name": "stdout",
     "output_type": "stream",
     "text": [
      "Chuoi la:  ha\n",
      "Chuoi moi:  hahahaha\n"
     ]
    }
   ],
   "execution_count": 28
  },
  {
   "metadata": {},
   "cell_type": "markdown",
   "source": "",
   "id": "7d03042401076901"
  },
  {
   "metadata": {},
   "cell_type": "markdown",
   "source": "18. Write a Python function to get a string made of the first three characters of a specified string. If the length of the string is less than 3, return the original string.",
   "id": "e7ed0f5f8c389d2d"
  },
  {
   "metadata": {
    "ExecuteTime": {
     "end_time": "2025-04-04T07:59:44.630344Z",
     "start_time": "2025-04-04T07:59:38.225413Z"
    }
   },
   "cell_type": "code",
   "source": [
    "def get_first_three_chars(s):\n",
    "    if len(s) < 3:\n",
    "        return s\n",
    "    return s[:3]\n",
    "\n",
    "s = input(\"Nhap chuoi: \")\n",
    "print(\"Chuoi la: \",s)\n",
    "\n",
    "newstr = get_first_three_chars(s)\n",
    "print(\"Chuoi moi: \", newstr)"
   ],
   "id": "69276dd2b00bd4c7",
   "outputs": [
    {
     "name": "stdout",
     "output_type": "stream",
     "text": [
      "Chuoi la:  huyen\n",
      "Chuoi moi:  huy\n"
     ]
    }
   ],
   "execution_count": 31
  },
  {
   "metadata": {},
   "cell_type": "markdown",
   "source": "19. Write a Python program to get the last part of a string before a specified character.",
   "id": "c5267504d0b304a6"
  },
  {
   "metadata": {
    "ExecuteTime": {
     "end_time": "2025-04-04T08:11:46.333621Z",
     "start_time": "2025-04-04T08:11:29.159569Z"
    }
   },
   "cell_type": "code",
   "source": [
    "s = input(\"Nhap chuoi: \")\n",
    "print(\"Chuoi la: \",s)\n",
    "\n",
    "kyTu = input(\"Nhap ky tu: \")\n",
    "print(\"Ky tu xac dinh la: \",kyTu)\n",
    "newstr = \"\"\n",
    "viTri = s.rfind(kyTu)\n",
    "if viTri != -1:\n",
    "    newstr = s[:viTri]\n",
    "    print(\"Chuoi moi: \", newstr)\n",
    "else:\n",
    "    print(\"Chuoi van la: \", s)"
   ],
   "id": "e3dab6340bb73ab5",
   "outputs": [
    {
     "name": "stdout",
     "output_type": "stream",
     "text": [
      "Chuoi la:  https://www.w3resource.com/python-exercises\n",
      "Ky tu xac dinh la:  -\n",
      "Chuoi moi:  https://www.w3resource.com/python\n"
     ]
    }
   ],
   "execution_count": 35
  },
  {
   "metadata": {},
   "cell_type": "markdown",
   "source": "20. Write a Python function to reverse a string if its length is a multiple of 4.",
   "id": "5761a80666a107f9"
  },
  {
   "metadata": {
    "ExecuteTime": {
     "end_time": "2025-04-04T08:18:23.533560Z",
     "start_time": "2025-04-04T08:18:12.829428Z"
    }
   },
   "cell_type": "code",
   "source": [
    "def reverse_a_string(s):\n",
    "    if len(s) % 4 ==0:\n",
    "        return s[::-1]\n",
    "    else:\n",
    "        return s\n",
    "\n",
    "s = input(\"Nhap chuoi: \")\n",
    "print(\"Chuoi la: \",s)\n",
    "\n",
    "newstr = reverse_a_string(s)\n",
    "print(\"Chuoi moi: \", newstr)"
   ],
   "id": "6e14c9bf62f187ba",
   "outputs": [
    {
     "name": "stdout",
     "output_type": "stream",
     "text": [
      "Chuoi la:  hoenneee\n",
      "Chuoi moi:  eeenneoh\n"
     ]
    }
   ],
   "execution_count": 39
  },
  {
   "metadata": {},
   "cell_type": "markdown",
   "source": "21. Write a Python function to convert a given string to all uppercase if it contains at least 2 uppercase characters in the first 4 characters.",
   "id": "a84f9905a3bf2352"
  },
  {
   "metadata": {
    "ExecuteTime": {
     "end_time": "2025-04-04T08:27:00.589874Z",
     "start_time": "2025-04-04T08:26:47.015442Z"
    }
   },
   "cell_type": "code",
   "source": [
    "def convert_the_string(s):\n",
    "    first_four_chars = s[:4]\n",
    "    uppercase_word_count = 0\n",
    "\n",
    "    for char in first_four_chars:\n",
    "        if char.isupper():\n",
    "            uppercase_word_count += 1\n",
    "    if uppercase_word_count >= 2:\n",
    "        return s.upper()\n",
    "    else:\n",
    "        return s\n",
    "\n",
    "s = input(\"Nhap chuoi: \")\n",
    "print(\"Chuoi la: \",s)\n",
    "\n",
    "newstr = convert_the_string(s)\n",
    "print(\"Chuoi moi: \", newstr)"
   ],
   "id": "816c416264a5f04b",
   "outputs": [
    {
     "name": "stdout",
     "output_type": "stream",
     "text": [
      "Chuoi la:  HUYEnhuathingoc\n",
      "Chuoi moi:  HUYENHUATHINGOC\n"
     ]
    }
   ],
   "execution_count": 42
  },
  {
   "metadata": {},
   "cell_type": "markdown",
   "source": "22. Write a Python program to sort a string lexicographically",
   "id": "7679d1e09bfb2095"
  },
  {
   "metadata": {
    "ExecuteTime": {
     "end_time": "2025-04-04T08:34:37.006224Z",
     "start_time": "2025-04-04T08:34:27.489212Z"
    }
   },
   "cell_type": "code",
   "source": [
    "s = input(\"Nhap chuoi: \")\n",
    "print(\"Chuoi la: \", s)\n",
    "\n",
    "s_list = list(s)\n",
    "\n",
    "for i in range(len(s_list) - 1):\n",
    "    for j in range(len(s_list) - i - 1):\n",
    "        if s_list[j] > s_list[j + 1]:\n",
    "            s_list[j], s_list[j + 1] = s_list[j + 1], s_list[j]\n",
    "\n",
    "sorted_s = ''.join(s_list)\n",
    "\n",
    "print(\"Chuoi sau khi sap xep: \", sorted_s)\n"
   ],
   "id": "b3c72966651d3cd7",
   "outputs": [
    {
     "name": "stdout",
     "output_type": "stream",
     "text": [
      "Chuoi la:  acdbfe\n",
      "Chuoi sau khi sap xep:  abcdef\n"
     ]
    }
   ],
   "execution_count": 44
  },
  {
   "metadata": {},
   "cell_type": "markdown",
   "source": "23. Write a Python program to remove a newline in Python.",
   "id": "a019119e07ba18a1"
  },
  {
   "metadata": {
    "ExecuteTime": {
     "end_time": "2025-04-04T09:38:50.149547Z",
     "start_time": "2025-04-04T09:38:24.044976Z"
    }
   },
   "cell_type": "code",
   "source": [
    "s = input(\"Nhap chuoi: \")\n",
    "print(\"Chuoi la: \",s)\n",
    "\n",
    "s = s.replace(\"\\n\", \"\")\n",
    "print(\"Chuoi sau khi loai bo newline: \", s)"
   ],
   "id": "273bf28bbb077d74",
   "outputs": [
    {
     "name": "stdout",
     "output_type": "stream",
     "text": [
      "Chuoi la:  Hua Thi Ngoc Huyen\n",
      "20 tuoi\n",
      "TPHCM\n",
      "Chuoi sau khi loai bo newline:  Hua Thi Ngoc Huyen20 tuoiTPHCM\n"
     ]
    }
   ],
   "execution_count": 45
  },
  {
   "metadata": {},
   "cell_type": "markdown",
   "source": "24. Write a Python program to check whether a string starts with specified characters.",
   "id": "39940393a468833f"
  },
  {
   "metadata": {
    "ExecuteTime": {
     "end_time": "2025-04-04T09:47:25.954097Z",
     "start_time": "2025-04-04T09:47:05.616975Z"
    }
   },
   "cell_type": "code",
   "source": [
    "s = input(\"Nhap chuoi: \")\n",
    "print(\"Chuoi la: \",s)\n",
    "\n",
    "batdau = input(\"Nhap chuoi can kiem tra: \")\n",
    "print(\"Chuoi can kiem tra: \", batdau)\n",
    "\n",
    "if s[:len(batdau)] == batdau:\n",
    "    print(f\"Chuoi '{s}' bat dau voi '{batdau}'.\")\n",
    "else:\n",
    "    print(f\"Chuoi '{s}' khong bat dau voi '{batdau}'.\")"
   ],
   "id": "35ee8a2c93910f",
   "outputs": [
    {
     "name": "stdout",
     "output_type": "stream",
     "text": [
      "Chuoi la:  Xin chao! Tui ten la Huyen.\n",
      "Chuoi can kiem tra:  Xin\n",
      "Chuoi 'Xin chao! Tui ten la Huyen.' bat dau voi 'Xin'.\n"
     ]
    }
   ],
   "execution_count": 47
  },
  {
   "metadata": {},
   "cell_type": "markdown",
   "source": "25. Write a Python program to create a Caesar encryption.",
   "id": "f5b115abaecb1b18"
  },
  {
   "metadata": {
    "ExecuteTime": {
     "end_time": "2025-04-04T09:58:10.349507Z",
     "start_time": "2025-04-04T09:57:57.454152Z"
    }
   },
   "cell_type": "code",
   "source": [
    "def caesar_encrypt(text, shift):\n",
    "    result = \"\"\n",
    "\n",
    "    for char in text:\n",
    "        if char.isupper():\n",
    "            result += chr((ord(char) + shift - 65) % 26 + 65)\n",
    "        elif char.islower():\n",
    "            result += chr((ord(char) + shift - 97) % 26 + 97)\n",
    "        else:\n",
    "            result += char\n",
    "\n",
    "    return result\n",
    "\n",
    "text = input(\"Nhap chuoi can ma hoa: \")\n",
    "print(\"Chuoi can ma hoa la: \",text)\n",
    "shift = int(input(\"Nhap so buoc dich chuyen: \"))\n",
    "print(f\"Dich chuyen {shift} buoc.\")\n",
    "\n",
    "encrypted_text = caesar_encrypt(text, shift)\n",
    "print(\"Chuoi sau khi ma hoa: \", encrypted_text)\n"
   ],
   "id": "d6045bdcaf6232e9",
   "outputs": [
    {
     "name": "stdout",
     "output_type": "stream",
     "text": [
      "Chuoi can ma hoa la:  HUYEN ne\n",
      "Dich chuyen 2 buoc.\n",
      "Chuoi sau khi ma hoa:  JWAGP pg\n"
     ]
    }
   ],
   "execution_count": 49
  },
  {
   "metadata": {},
   "cell_type": "markdown",
   "source": "26. Write a Python program to display formatted text (width=50) as output.",
   "id": "b14e444b0cb5cc13"
  },
  {
   "metadata": {
    "ExecuteTime": {
     "end_time": "2025-04-04T10:12:48.029010Z",
     "start_time": "2025-04-04T10:12:44.911820Z"
    }
   },
   "cell_type": "code",
   "source": [
    "import textwrap\n",
    "\n",
    "text = input(\"Nhap chuoi: \")\n",
    "print(\"Chuoi la: \",text)\n",
    "\n",
    "formatted_text = textwrap.fill(text, width=50)\n",
    "\n",
    "print(\"Chuoi sau khi can chinh:\")\n",
    "print(formatted_text)\n"
   ],
   "id": "c287458e1a34825",
   "outputs": [
    {
     "name": "stdout",
     "output_type": "stream",
     "text": [
      "Chuoi la:  Tui ten la Hua Thi Ngoc Huyen. Nam nay tui 20 tuoi. Tui sinh ra va lon len o TPHCM. Gia dinh tui co 4 nguoi: ba, me, tui va em trai. Tui dang la sinh vien tai UEH University.\n",
      "Chuoi sau khi can chinh:\n",
      "Tui ten la Hua Thi Ngoc Huyen. Nam nay tui 20\n",
      "tuoi. Tui sinh ra va lon len o TPHCM. Gia dinh tui\n",
      "co 4 nguoi: ba, me, tui va em trai. Tui dang la\n",
      "sinh vien tai UEH University.\n"
     ]
    }
   ],
   "execution_count": 61
  },
  {
   "metadata": {},
   "cell_type": "markdown",
   "source": "27. Write a Python program to remove existing indentation from all of the lines in a given text.",
   "id": "46220040a42d53ac"
  },
  {
   "metadata": {
    "ExecuteTime": {
     "end_time": "2025-04-04T10:11:52.930479Z",
     "start_time": "2025-04-04T10:11:50.204270Z"
    }
   },
   "cell_type": "code",
   "source": [
    "text = input(\"Nhap chuoi: \")\n",
    "print(\"Chuoi la: \",text)\n",
    "\n",
    "lines = text.splitlines()\n",
    "no_indent_text = '\\n'.join(line.lstrip() for line in lines)\n",
    "\n",
    "print(\"Van ban sau khi bo thut dong:\")\n",
    "print(no_indent_text)"
   ],
   "id": "75e13fb9f0164668",
   "outputs": [
    {
     "name": "stdout",
     "output_type": "stream",
     "text": [
      "Chuoi la:  Tui ten Huyen\n",
      "         Tui 20 tuoi\n",
      "    Tui thich an keo\n",
      "      Nha tui o Thu Duc\n",
      "Van ban sau khi bo thut dong:\n",
      "Tui ten Huyen\n",
      "Tui 20 tuoi\n",
      "Tui thich an keo\n",
      "Nha tui o Thu Duc\n"
     ]
    }
   ],
   "execution_count": 60
  },
  {
   "metadata": {},
   "cell_type": "markdown",
   "source": "28. Write a Python program to add prefix text to all of the lines in a string.",
   "id": "4612bbd2482fecdf"
  },
  {
   "metadata": {
    "ExecuteTime": {
     "end_time": "2025-04-04T10:20:01.819828Z",
     "start_time": "2025-04-04T10:19:52.895229Z"
    }
   },
   "cell_type": "code",
   "source": [
    "text = input(\"Nhap chuoi: \")\n",
    "print(\"Chuoi la: \",text)\n",
    "\n",
    "prefix = input(\"Nhap tien to: \")\n",
    "print(\"Tien to: \", prefix)\n",
    "\n",
    "lines = text.splitlines()\n",
    "prefixed_text = '\\n'.join(prefix + \" \" + line for line in lines)\n",
    "\n",
    "print(\"Chuoi sau khi them tien to:\")\n",
    "print(prefixed_text)\n"
   ],
   "id": "48eb06d9ce6b88c5",
   "outputs": [
    {
     "name": "stdout",
     "output_type": "stream",
     "text": [
      "Chuoi la:  xin chao buoi sang\n",
      "xin chao buoi trua\n",
      "xin chao buoi toi\n",
      "Tien to:  Huyen\n",
      "Chuoi sau khi them tien to:\n",
      "Huyen xin chao buoi sang\n",
      "Huyen xin chao buoi trua\n",
      "Huyen xin chao buoi toi\n"
     ]
    }
   ],
   "execution_count": 66
  },
  {
   "metadata": {},
   "cell_type": "markdown",
   "source": "29. Write a Python program to set the indentation of the first line.",
   "id": "ba5017449ba7988e"
  },
  {
   "metadata": {
    "ExecuteTime": {
     "end_time": "2025-04-04T10:32:52.911758Z",
     "start_time": "2025-04-04T10:32:39.758775Z"
    }
   },
   "cell_type": "code",
   "source": [
    "text = input(\"Nhap chuoi: \")\n",
    "print(\"Chuoi la: \")\n",
    "print(text)\n",
    "\n",
    "num_spaces = int(input(\"Nhập số khoảng trắng thụt lề cho dòng đầu tiên: \"))\n",
    "indentation = \" \" * num_spaces\n",
    "\n",
    "lines = text.splitlines()\n",
    "\n",
    "if len(lines) > 0:\n",
    "    lines[0] = indentation + lines[0]\n",
    "\n",
    "indented_text = '\\n'.join(lines)\n",
    "\n",
    "print(\"Chuoi sau khi thut le dong dau tien:\")\n",
    "print(indented_text)\n"
   ],
   "id": "c5d856716586f08c",
   "outputs": [
    {
     "name": "stdout",
     "output_type": "stream",
     "text": [
      "Chuoi la: \n",
      "tui ten huyen\n",
      "tui 20 tuoi\n",
      "Chuoi sau khi thut le dong dau tien:\n",
      "    tui ten huyen\n",
      "tui 20 tuoi\n"
     ]
    }
   ],
   "execution_count": 76
  },
  {
   "metadata": {},
   "cell_type": "markdown",
   "source": "30. Write a Python program to print the following numbers up to 2 decimal places",
   "id": "940bacb324a4d562"
  },
  {
   "metadata": {
    "ExecuteTime": {
     "end_time": "2025-04-04T11:01:58.422144Z",
     "start_time": "2025-04-04T11:01:53.881087Z"
    }
   },
   "cell_type": "code",
   "source": [
    "so = float(input(\"Nhap so: \"))\n",
    "print(f\"So {so} vs 2 chu so thap phan: {so:.2f}\")"
   ],
   "id": "7cef92500ca231d5",
   "outputs": [
    {
     "name": "stdout",
     "output_type": "stream",
     "text": [
      "So 34.56745 vs 2 chu so thap phan: 34.57\n"
     ]
    }
   ],
   "execution_count": 92
  },
  {
   "metadata": {},
   "cell_type": "markdown",
   "source": "31. Write a Python program to print the following numbers up to 2 decimal places with a sign.",
   "id": "d73b4f9edd9b58b8"
  },
  {
   "metadata": {
    "ExecuteTime": {
     "end_time": "2025-04-04T11:03:10.657791Z",
     "start_time": "2025-04-04T11:03:04.735643Z"
    }
   },
   "cell_type": "code",
   "source": [
    "so = float(input(\"Nhap so: \"))\n",
    "print(f\"So {so} vs 2 chu so thap phan: {so:+.2f}\")"
   ],
   "id": "c3444500f8f1cd66",
   "outputs": [
    {
     "name": "stdout",
     "output_type": "stream",
     "text": [
      "So 45.568 vs 2 chu so thap phan: +45.57\n"
     ]
    }
   ],
   "execution_count": 95
  },
  {
   "metadata": {},
   "cell_type": "markdown",
   "source": [
    "32. Write a Python program to print the following positive and negative numbers with no\n",
    "decimal places."
   ],
   "id": "5a16b66c29af8919"
  },
  {
   "metadata": {
    "ExecuteTime": {
     "end_time": "2025-04-04T10:49:16.346260Z",
     "start_time": "2025-04-04T10:48:51.168048Z"
    }
   },
   "cell_type": "code",
   "source": [
    "so = float(input(\"Nhap so: \"))\n",
    "print(f\"So {so} khong chu so thap phan: {so:+.0f}\")\n"
   ],
   "id": "2fd032fc4af363cc",
   "outputs": [
    {
     "name": "stdout",
     "output_type": "stream",
     "text": [
      "Day so:  [23.5235, -3.34532, -44.6789, 23.0956]\n",
      "So 23.5235 khong chu so thap phan: +24\n",
      "So -3.34532 khong chu so thap phan: -3\n",
      "So -44.6789 khong chu so thap phan: -45\n",
      "So 23.0956 khong chu so thap phan: +23\n"
     ]
    }
   ],
   "execution_count": 85
  },
  {
   "metadata": {},
   "cell_type": "markdown",
   "source": "33. Write a Python program to print the following integers with zeros to the left of the specified width.",
   "id": "aedcf6d1893036d0"
  },
  {
   "metadata": {
    "ExecuteTime": {
     "end_time": "2025-04-04T11:14:50.225155Z",
     "start_time": "2025-04-04T11:14:43.107950Z"
    }
   },
   "cell_type": "code",
   "source": [
    "so = int(input(\"Nhap so: \"))\n",
    "\n",
    "width = int(input(\"Nhap do rong toi thieu: \"))\n",
    "print(\"Do rong: \",width)\n",
    "print(f\"So {so} duoc can trai voi so 0: {so:0<{width}d}\")\n"
   ],
   "id": "5c0cf08da077941",
   "outputs": [
    {
     "name": "stdout",
     "output_type": "stream",
     "text": [
      "Do rong:  4\n",
      "So 56 duoc can trai voi so 0: 5600\n"
     ]
    }
   ],
   "execution_count": 108
  },
  {
   "metadata": {},
   "cell_type": "markdown",
   "source": "34. Write a Python program to print the following integers with '*' to the right of the specified width.",
   "id": "37f9559589921e85"
  },
  {
   "metadata": {
    "ExecuteTime": {
     "end_time": "2025-04-04T11:05:27.571150Z",
     "start_time": "2025-04-04T11:05:21.272402Z"
    }
   },
   "cell_type": "code",
   "source": [
    "so = int(input(\"Nhap so: \"))\n",
    "\n",
    "width = int(input(\"Nhap do rong toi thieu: \"))\n",
    "print(\"Do rong: \",width)\n",
    "print(f\"So {so} duoc can phai voi '*': {so:*>{width}d}\")\n"
   ],
   "id": "59953a81aa733efc",
   "outputs": [
    {
     "name": "stdout",
     "output_type": "stream",
     "text": [
      "Do rong:  10\n",
      "So 345 duoc can phai voi '*': *******345\n"
     ]
    }
   ],
   "execution_count": 97
  },
  {
   "metadata": {},
   "cell_type": "markdown",
   "source": "35. Write a Python program to display a number with a comma separator",
   "id": "872dd672b1560092"
  },
  {
   "metadata": {
    "ExecuteTime": {
     "end_time": "2025-04-04T11:05:55.645227Z",
     "start_time": "2025-04-04T11:05:49.318524Z"
    }
   },
   "cell_type": "code",
   "source": [
    "so = int(input(\"Nhap so: \"))\n",
    "print(f\"So {so} voi dau phay ngan cach: {so:,}\")\n"
   ],
   "id": "bfef6dde92c3758c",
   "outputs": [
    {
     "name": "stdout",
     "output_type": "stream",
     "text": [
      "So 123466867970768056735 voi dau phay ngan cach: 123,466,867,970,768,056,735\n"
     ]
    }
   ],
   "execution_count": 98
  },
  {
   "metadata": {},
   "cell_type": "markdown",
   "source": "36. Write a Python program to format a number with a percentage.",
   "id": "e5c8fb3e6cbb0b2d"
  },
  {
   "metadata": {
    "ExecuteTime": {
     "end_time": "2025-04-04T11:18:28.227408Z",
     "start_time": "2025-04-04T11:18:22.778478Z"
    }
   },
   "cell_type": "code",
   "source": [
    "so = float(input(\"Nhap so: \"))\n",
    "\n",
    "print(f\"So {so} duoi dang phan tram: {so:.2%}\")\n"
   ],
   "id": "7964fa51060d4532",
   "outputs": [
    {
     "name": "stdout",
     "output_type": "stream",
     "text": [
      "So 0.25 duoi dang phan tram: 25.00%\n"
     ]
    }
   ],
   "execution_count": 115
  },
  {
   "metadata": {},
   "cell_type": "markdown",
   "source": "37. Write a Python program to display a number in left, right, and center aligned with a width of 10",
   "id": "76a132b99a13da90"
  },
  {
   "metadata": {
    "ExecuteTime": {
     "end_time": "2025-04-04T11:25:39.454416Z",
     "start_time": "2025-04-04T11:25:30.770268Z"
    }
   },
   "cell_type": "code",
   "source": [
    "so = int(input(\"Nhap so: \"))\n",
    "\n",
    "so_str = str(so)\n",
    "\n",
    "print(f\"So {so} duoc can trai: '{so:<10}'\")\n",
    "print(f\"So {so} duoc can phai: '{so:>10}'\")\n",
    "print(f\"So {so} duoc can giua: '{so:^10}'\")"
   ],
   "id": "453aafe4fe76ebf8",
   "outputs": [
    {
     "name": "stdout",
     "output_type": "stream",
     "text": [
      "So 99 duoc can trai: '99        '\n",
      "So 99 duoc can phai: '        99'\n",
      "So 99 duoc can giua: '    99    '\n"
     ]
    }
   ],
   "execution_count": 118
  },
  {
   "metadata": {},
   "cell_type": "markdown",
   "source": "38. Write a Python program to count occurrences of a substring in a string.",
   "id": "45888fc3ccc6bf5e"
  },
  {
   "metadata": {
    "ExecuteTime": {
     "end_time": "2025-04-04T11:39:19.009432Z",
     "start_time": "2025-04-04T11:39:05.301749Z"
    }
   },
   "cell_type": "code",
   "source": [
    "chuoi = input(\"Nhap chuoi: \")\n",
    "print(\"Chuoi la: \",chuoi)\n",
    "\n",
    "chuoiCon = input(\"Nhap chuoi con: \")\n",
    "print(\"Chuoi con la: \",chuoiCon)\n",
    "\n",
    "count = chuoi.count(chuoiCon)\n",
    "\n",
    "print(f\"Chuoi con '{chuoiCon}' xuat hien {count} lan trong chuoi chinh.\")\n"
   ],
   "id": "caaf96d9628dd984",
   "outputs": [
    {
     "name": "stdout",
     "output_type": "stream",
     "text": [
      "Chuoi la:  huyen ne huyen chao moi nguoi\n",
      "Chuoi con la:  huyen\n",
      "Chuoi con 'huyen' xuat hien 2 lan trong chuoi chinh.\n"
     ]
    }
   ],
   "execution_count": 124
  },
  {
   "metadata": {},
   "cell_type": "markdown",
   "source": "39. Write a Python program to reverse a string.",
   "id": "73c7de5571d191bc"
  },
  {
   "metadata": {
    "ExecuteTime": {
     "end_time": "2025-04-04T11:41:05.131525Z",
     "start_time": "2025-04-04T11:40:55.184593Z"
    }
   },
   "cell_type": "code",
   "source": [
    "s = input(\"Nhap chuoi: \")\n",
    "print(\"Chuoi la: \",s)\n",
    "\n",
    "if len(s) > 0:\n",
    "    print(\"Chuoi sau khi dao nguoc la: \", s[::-1])"
   ],
   "id": "5456995e271eb924",
   "outputs": [
    {
     "name": "stdout",
     "output_type": "stream",
     "text": [
      "Chuoi la:  hahaha\n",
      "Chuoi sau khi dao nguoc la:  ahahah\n"
     ]
    }
   ],
   "execution_count": 125
  },
  {
   "metadata": {},
   "cell_type": "markdown",
   "source": "40. Write a Python program to reverse words in a string.",
   "id": "872a347e99f76250"
  },
  {
   "metadata": {
    "ExecuteTime": {
     "end_time": "2025-04-04T11:51:02.432813Z",
     "start_time": "2025-04-04T11:50:55.536465Z"
    }
   },
   "cell_type": "code",
   "source": [
    "s = input(\"Nhap chuoi: \")\n",
    "print(\"Chuoi la: \",s)\n",
    "\n",
    "cacTu = s.split()\n",
    "print(f\"Cac tu trong chuoi truoc khi dao nguoc: {cacTu}\")\n",
    "print(f\"Cac tu trong chuoi sau khi dao nguoc la: {cacTu[::-1]}\")\n",
    "chuoi_dao_nguoc = ' '.join(cacTu[::-1])\n",
    "print(f\"Chuoi sau khi dao nguoc: {chuoi_dao_nguoc}\")"
   ],
   "id": "e1675dfe2b3211cc",
   "outputs": [
    {
     "name": "stdout",
     "output_type": "stream",
     "text": [
      "Chuoi la:  tui la huyen\n",
      "Cac tu trong chuoi truoc khi dao nguoc: ['tui', 'la', 'huyen']\n",
      "Cac tu trong chuoi sau khi dao nguoc la: ['huyen', 'la', 'tui']\n",
      "Chuoi sau khi dao nguoc: huyen la tui\n"
     ]
    }
   ],
   "execution_count": 130
  },
  {
   "metadata": {},
   "cell_type": "markdown",
   "source": "41. Write a Python program to strip a set of characters from a string",
   "id": "90f7a7d0fcb99b01"
  },
  {
   "metadata": {
    "ExecuteTime": {
     "end_time": "2025-04-04T12:08:17.805920Z",
     "start_time": "2025-04-04T12:08:10.605144Z"
    }
   },
   "cell_type": "code",
   "source": [
    "s = input(\"Nhap chuoi: \")\n",
    "print(\"Chuoi la: \",s)\n",
    "kyTu = input(\"Nhap cac ky tu can loai bo: \")\n",
    "\n",
    "for ky in kyTu:\n",
    "    s = s.replace(ky, \"\")\n",
    "\n",
    "print(f\"Chuoi sau khi loai bo cac ky tu: {s}\")\n"
   ],
   "id": "34c1914bb9febb0d",
   "outputs": [
    {
     "name": "stdout",
     "output_type": "stream",
     "text": [
      "Chuoi la:  huyen\n",
      "Chuoi sau khi loai bo cac ky tu: huy\n"
     ]
    }
   ],
   "execution_count": 144
  },
  {
   "metadata": {},
   "cell_type": "markdown",
   "source": "42. Write a Python program to count repeated characters in a string.",
   "id": "61097b95732a4c15"
  },
  {
   "metadata": {
    "ExecuteTime": {
     "end_time": "2025-04-04T12:10:07.575008Z",
     "start_time": "2025-04-04T12:10:05.354485Z"
    }
   },
   "cell_type": "code",
   "source": [
    "s = input(\"Nhap chuoi: \")\n",
    "print(\"Chuoi la: \",s)\n",
    "\n",
    "while s != \"\":\n",
    "    count = 0\n",
    "    left = \"\"\n",
    "    c = s[0].lower()\n",
    "    for i in s:\n",
    "        if c == i.lower():\n",
    "            count += 1\n",
    "        else:\n",
    "            left = left + i\n",
    "    s = left\n",
    "    if count >1:\n",
    "        print(c,\": \", count, \";\")"
   ],
   "id": "ff1073d39cabd9db",
   "outputs": [
    {
     "name": "stdout",
     "output_type": "stream",
     "text": [
      "Chuoi la:  thequickbrownfoxjumpsoverthelazydog\n",
      "t :  2 ;\n",
      "h :  2 ;\n",
      "e :  3 ;\n",
      "u :  2 ;\n",
      "r :  2 ;\n",
      "o :  4 ;\n"
     ]
    }
   ],
   "execution_count": 146
  },
  {
   "metadata": {},
   "cell_type": "markdown",
   "source": "43. Write a Python program to print the square and cube symbols in the area of a rectangle and the volume of a cylinder.",
   "id": "cc88d52d0e7a1a09"
  },
  {
   "metadata": {
    "ExecuteTime": {
     "end_time": "2025-04-04T12:19:27.355639Z",
     "start_time": "2025-04-04T12:19:16.573919Z"
    }
   },
   "cell_type": "code",
   "source": [
    "import math\n",
    "\n",
    "chieu_dai = float(input(\"Nhap chieu dai hinh chu nhat (cm): \"))\n",
    "chieu_rong = float(input(\"Nhap chieu rong hinh chu nhat (cm): \"))\n",
    "print(f\"Chieu dai va chieu rong hcn: {chieu_dai}, {chieu_rong}\")\n",
    "\n",
    "dien_tich = chieu_dai * chieu_rong\n",
    "print(f\"Dien tich hinh chu nhat la: {dien_tich:.2f}cm²\")\n",
    "\n",
    "ban_kinh = float(input(\"Nhap ban kinh hinh tru (cm): \"))\n",
    "chieu_cao = float(input(\"Nhap chieu cao hinh tru (cm): \"))\n",
    "print(f\"Ban kinh va chieu cao hinh tru: {ban_kinh}, {chieu_cao}\")\n",
    "\n",
    "the_tich = math.pi * ban_kinh**2 * chieu_cao\n",
    "print(f\"Ban kinh hinh tru la: {the_tich:.3f}cm³\")\n"
   ],
   "id": "9e75ceea6078ff49",
   "outputs": [
    {
     "name": "stdout",
     "output_type": "stream",
     "text": [
      "Chieu dai va chieu rong hcn: 34.0, 23.0\n",
      "Dien tich hinh chu nhat la: 782.00cm²\n",
      "Ban kinh va chieu cao hinh tru: 12.0, 43.0\n",
      "Ban kinh hinh tru la: 19452.742cm³\n"
     ]
    }
   ],
   "execution_count": 149
  },
  {
   "metadata": {},
   "cell_type": "markdown",
   "source": "44. Write a Python program to print the index of a character in a string.",
   "id": "6d500f61f8ca3acc"
  },
  {
   "metadata": {
    "ExecuteTime": {
     "end_time": "2025-04-04T12:27:59.809538Z",
     "start_time": "2025-04-04T12:27:41.811104Z"
    }
   },
   "cell_type": "code",
   "source": [
    "s = input(\"Nhap chuoi: \")\n",
    "print(\"Chuoi la: \",s)\n",
    "\n",
    "for i in range(len(s)):\n",
    "    kyTu = s[i]\n",
    "    print(f\"Ky tu {kyTu} co vi tri {i}.\")"
   ],
   "id": "4a94fbd812a1a911",
   "outputs": [
    {
     "name": "stdout",
     "output_type": "stream",
     "text": [
      "Chuoi la:  abcdefghijklm\n",
      "Ky tu a co vi tri 0.\n",
      "Ky tu b co vi tri 1.\n",
      "Ky tu c co vi tri 2.\n",
      "Ky tu d co vi tri 3.\n",
      "Ky tu e co vi tri 4.\n",
      "Ky tu f co vi tri 5.\n",
      "Ky tu g co vi tri 6.\n",
      "Ky tu h co vi tri 7.\n",
      "Ky tu i co vi tri 8.\n",
      "Ky tu j co vi tri 9.\n",
      "Ky tu k co vi tri 10.\n",
      "Ky tu l co vi tri 11.\n",
      "Ky tu m co vi tri 12.\n"
     ]
    }
   ],
   "execution_count": 152
  },
  {
   "metadata": {},
   "cell_type": "markdown",
   "source": "45. Write a Python program to check whether a string contains all letters of the alphabet.",
   "id": "3431921d37ad026e"
  },
  {
   "metadata": {
    "ExecuteTime": {
     "end_time": "2025-04-04T12:35:55.720703Z",
     "start_time": "2025-04-04T12:35:44.462612Z"
    }
   },
   "cell_type": "code",
   "source": [
    "import string\n",
    "\n",
    "s = input(\"Nhap chuoi: \")\n",
    "print(\"Chuoi la: \",s)\n",
    "\n",
    "bangChuCai = string.ascii_lowercase\n",
    "\n",
    "for ky in bangChuCai:\n",
    "    if ky not in s.lower():\n",
    "        print(\"Chuoi khong chua tat ca cac chu cai trong bang chu cai.\")\n",
    "        break\n",
    "else:\n",
    "    print(\"Chuoi chua tat ca chu cai trong bang chu cai.\")\n"
   ],
   "id": "e63982f26e4e16a6",
   "outputs": [
    {
     "name": "stdout",
     "output_type": "stream",
     "text": [
      "Chuoi la:  Hello World\n",
      "Chuoi khong chua tat ca cac chu cai trong bang chu cai.\n"
     ]
    }
   ],
   "execution_count": 155
  },
  {
   "metadata": {},
   "cell_type": "markdown",
   "source": "46. Write a Python program to convert a given string into a list of words.",
   "id": "1f94776d053e4bd6"
  },
  {
   "metadata": {
    "ExecuteTime": {
     "end_time": "2025-04-04T12:40:13.571211Z",
     "start_time": "2025-04-04T12:40:02.540933Z"
    }
   },
   "cell_type": "code",
   "source": [
    "s = input(\"Nhap chuoi: \")\n",
    "print(\"Chuoi la: \",s)\n",
    "\n",
    "danhSachTu = s.split(\" \")\n",
    "print(\"Danh sach cac tu trong chuoi: \",danhSachTu)"
   ],
   "id": "baa163c4a12e2043",
   "outputs": [
    {
     "name": "stdout",
     "output_type": "stream",
     "text": [
      "Chuoi la:  hua thi ngoc huyen\n",
      "Danh sach cac tu trong chuoi:  ['hua', 'thi', 'ngoc', 'huyen']\n"
     ]
    }
   ],
   "execution_count": 156
  },
  {
   "metadata": {},
   "cell_type": "markdown",
   "source": "47. Write a Python program to lowercase the first n characters in a string.",
   "id": "7403a1730eba16d8"
  },
  {
   "metadata": {
    "ExecuteTime": {
     "end_time": "2025-04-04T12:50:04.059694Z",
     "start_time": "2025-04-04T12:49:41.238712Z"
    }
   },
   "cell_type": "code",
   "source": [
    "s = input(\"Nhap chuoi: \")\n",
    "print(\"Chuoi la: \",s)\n",
    "n = int(input(\"Nhap so n: \"))\n",
    "print(\"So ky tu muon doi: \",n)\n",
    "\n",
    "newstr = s[:n].lower() + s[n:]\n",
    "\n",
    "print(\"Chuoi sau khi doi:\", newstr)"
   ],
   "id": "77f22a7f09ae5514",
   "outputs": [
    {
     "name": "stdout",
     "output_type": "stream",
     "text": [
      "Chuoi la:  HELLOWORLD\n",
      "So ky tu muon doi:  6\n",
      "Chuoi sau khi doi: hellowORLD\n"
     ]
    }
   ],
   "execution_count": 157
  },
  {
   "metadata": {},
   "cell_type": "markdown",
   "source": "48. Write a Python program to swap commas and dots in a string.",
   "id": "f858a8ff114e4a29"
  },
  {
   "metadata": {
    "ExecuteTime": {
     "end_time": "2025-04-04T12:53:22.181418Z",
     "start_time": "2025-04-04T12:53:06.069057Z"
    }
   },
   "cell_type": "code",
   "source": [
    "s = input(\"Nhap chuoi: \")\n",
    "print(\"Chuoi la: \",s)\n",
    "\n",
    "newstr = s.replace('.', 'temp').replace(',', '.').replace('temp', ',')\n",
    "print(\"Chuoi sau khi doi:\", newstr)"
   ],
   "id": "94149d9f61984feb",
   "outputs": [
    {
     "name": "stdout",
     "output_type": "stream",
     "text": [
      "Chuoi la:  34,6674.4574.3453,2354\n",
      "Chuoi sau khi doi: 34.6674,4574,3453.2354\n"
     ]
    }
   ],
   "execution_count": 158
  },
  {
   "metadata": {},
   "cell_type": "markdown",
   "source": "49. Write a Python program to count and display vowels in text.",
   "id": "5615ac0497640190"
  },
  {
   "metadata": {
    "ExecuteTime": {
     "end_time": "2025-04-04T12:56:25.477111Z",
     "start_time": "2025-04-04T12:56:10.322071Z"
    }
   },
   "cell_type": "code",
   "source": [
    "s = input(\"Nhap chuoi: \")\n",
    "print(\"Chuoi la: \",s)\n",
    "\n",
    "nguyen_am = 'aeiouAEIOU'\n",
    "\n",
    "dem_nguyen_am = 0\n",
    "\n",
    "for ky in s:\n",
    "    if ky in nguyen_am:\n",
    "        dem_nguyen_am += 1\n",
    "\n",
    "print(f\"So nguyen am co trong chuoi: {dem_nguyen_am}\")\n"
   ],
   "id": "e77bade401e07ce7",
   "outputs": [
    {
     "name": "stdout",
     "output_type": "stream",
     "text": [
      "Chuoi la:  huyenhuathingoc\n",
      "So nguyen am co trong chuoi: 6\n"
     ]
    }
   ],
   "execution_count": 159
  },
  {
   "metadata": {},
   "cell_type": "markdown",
   "source": "50. Write a Python program to split a string on the last occurrence of the delimiter.",
   "id": "5bb165f562d52119"
  },
  {
   "metadata": {
    "ExecuteTime": {
     "end_time": "2025-04-04T13:03:31.378044Z",
     "start_time": "2025-04-04T13:02:58.186953Z"
    }
   },
   "cell_type": "code",
   "source": [
    "s = input(\"Nhap chuoi: \")\n",
    "print(\"Chuoi la: \",s)\n",
    "delimiter = input(\"Nhap dau phan cach: \")\n",
    "print(\"Dau phan cach: \",delimiter)\n",
    "\n",
    "ketQua = s.rsplit(delimiter, 1)\n",
    "\n",
    "print(\"Sau khi tach:\", ketQua)\n"
   ],
   "id": "7aead39010400c8f",
   "outputs": [
    {
     "name": "stdout",
     "output_type": "stream",
     "text": [
      "Chuoi la:  xin chao, hom nay la thu hai, tam biet\n",
      "Dau phan cach:  ,\n",
      "Sau khi tach: ['xin chao, hom nay la thu hai', ' tam biet']\n"
     ]
    }
   ],
   "execution_count": 160
  }
 ],
 "metadata": {
  "kernelspec": {
   "name": "python3",
   "language": "python",
   "display_name": "Python 3 (ipykernel)"
  }
 },
 "nbformat": 5,
 "nbformat_minor": 9
}
